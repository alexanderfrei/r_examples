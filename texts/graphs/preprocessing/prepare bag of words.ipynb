{
 "cells": [
  {
   "cell_type": "code",
   "execution_count": 184,
   "metadata": {
    "collapsed": false
   },
   "outputs": [],
   "source": [
    "import pandas as pd\n",
    "import numpy as np \n",
    "import re \n",
    "import os\n",
    "\n",
    "os.chdir(r'C:\\R workspace\\r_examples\\texts\\CE\\data')"
   ]
  },
  {
   "cell_type": "code",
   "execution_count": 24,
   "metadata": {
    "collapsed": false
   },
   "outputs": [],
   "source": [
    "# load db\n",
    "base1 = pd.read_csv(\"./M1.csv\", sep=\",\", encoding=\"windows-1251\")\n",
    "base2 = pd.read_csv(\"./2nd_M1.csv\", sep=\",\", encoding=\"windows-1251\")\n",
    "base3 = pd.read_csv(\"./4th_M1.csv\", sep=\",\", encoding=\"windows-1251\")"
   ]
  },
  {
   "cell_type": "code",
   "execution_count": 25,
   "metadata": {
    "collapsed": false
   },
   "outputs": [],
   "source": [
    "# merge db\n",
    "base1.columns = \"db1_\"+base1.columns\n",
    "base2.columns = \"db2_\"+base2.columns\n",
    "base3.columns = \"db3_\"+base3.columns\n",
    "db = pd.concat([base1, base2, base3], axis=0)\n",
    "db.fillna(\" \", inplace=True);"
   ]
  },
  {
   "cell_type": "code",
   "execution_count": 139,
   "metadata": {
    "collapsed": false
   },
   "outputs": [],
   "source": [
    "# load pairs and stopwords\n",
    "\n",
    "pairs = {}\n",
    "with open('./stopwords.txt', 'r') as st:\n",
    "    stopwords = st.read().split('\\n')   \n",
    "\n",
    "with open('./pairs_raw.txt', 'r') as pr:\n",
    "    tmp = pr.read().split('\\n\\n')\n",
    "\n",
    "for tmp_pair in tmp:\n",
    "    tmp_pair = tmp_pair.split('\\n')\n",
    "    for tmp_token in tmp_pair:\n",
    "        if tmp_token != tmp_pair[0]:\n",
    "            pairs[tmp_token] = tmp_pair[0]\n",
    "            "
   ]
  },
  {
   "cell_type": "markdown",
   "metadata": {},
   "source": [
    "## Отдельные вопросы"
   ]
  },
  {
   "cell_type": "code",
   "execution_count": 285,
   "metadata": {
    "collapsed": false
   },
   "outputs": [],
   "source": [
    "# slice by qt \n",
    "\n",
    "TARGET_QT = 'c115'\n",
    "qt_list = pd.Series(db.columns)\n",
    "db_qt = db.loc[:, list(qt_list.apply(lambda x: TARGET_QT in x))]"
   ]
  },
  {
   "cell_type": "code",
   "execution_count": 286,
   "metadata": {
    "collapsed": false
   },
   "outputs": [],
   "source": [
    "# rename qt with tokens\n",
    "\n",
    "def prepare_token(token):\n",
    "    token = token.lower()\n",
    "    token = token.strip(\"(){}<>-–,. :;!?``“”‘’«»\\\"\")\n",
    "    # pairs \n",
    "    keys = pairs.keys()\n",
    "    if token in keys:\n",
    "        token = pairs[token]\n",
    "    return token\n",
    "\n",
    "word_columns = []\n",
    "mask_columns = []\n",
    "for col in db_qt.columns:\n",
    "    levels = db_qt[col].value_counts().index\n",
    "    if np.sum(levels != ' '): \n",
    "        word = levels[levels != ' '][0]\n",
    "        word = prepare_token(word)\n",
    "        if len(word) > 2 and word not in stopwords: # drop stopwords   \n",
    "            word_columns.append(word)\n",
    "            mask_columns.append(True)        \n",
    "        else:\n",
    "            mask_columns.append(False)\n",
    "    else:\n",
    "        mask_columns.append(False)\n",
    "\n",
    "db_qt = db_qt.loc[:, mask_columns]\n",
    "db_qt.columns = word_columns"
   ]
  },
  {
   "cell_type": "code",
   "execution_count": 287,
   "metadata": {
    "collapsed": false
   },
   "outputs": [],
   "source": [
    "# binarize to int 0/1\n",
    "\n",
    "def binarize(col):  \n",
    "    return pd.Series(col != ' ', dtype=int)\n",
    "\n",
    "db_qt = db_qt.apply(binarize, axis=1)"
   ]
  },
  {
   "cell_type": "code",
   "execution_count": 288,
   "metadata": {
    "collapsed": false
   },
   "outputs": [],
   "source": [
    "# tokens slider \n",
    "  \n",
    "for col in np.unique(db_qt.columns):\n",
    "    if type(db_qt[col]) != pd.Series:\n",
    "        tmp_series = db_qt[col].sum(1)\n",
    "        db_qt.drop(col, axis=1, inplace=True)\n",
    "        db_qt[col] = (tmp_series > 0).astype(int)\n"
   ]
  },
  {
   "cell_type": "code",
   "execution_count": 289,
   "metadata": {
    "collapsed": true
   },
   "outputs": [],
   "source": [
    "# save \n",
    "csv_name = TARGET_QT + \".csv\"\n",
    "db_qt.to_csv(csv_name, sep=',', index=False)"
   ]
  },
  {
   "cell_type": "code",
   "execution_count": null,
   "metadata": {
    "collapsed": true
   },
   "outputs": [],
   "source": []
  }
 ],
 "metadata": {
  "kernelspec": {
   "display_name": "Python 3",
   "language": "python",
   "name": "python3"
  },
  "language_info": {
   "codemirror_mode": {
    "name": "ipython",
    "version": 3
   },
   "file_extension": ".py",
   "mimetype": "text/x-python",
   "name": "python",
   "nbconvert_exporter": "python",
   "pygments_lexer": "ipython3",
   "version": "3.5.2"
  }
 },
 "nbformat": 4,
 "nbformat_minor": 2
}
